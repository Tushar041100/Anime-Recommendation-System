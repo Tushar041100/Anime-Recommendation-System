{
 "cells": [
  {
   "cell_type": "code",
   "execution_count": 1,
   "metadata": {},
   "outputs": [],
   "source": [
    "import numpy as np\n",
    "import pandas as pd"
   ]
  },
  {
   "cell_type": "code",
   "execution_count": 2,
   "metadata": {},
   "outputs": [],
   "source": [
    "pd.set_option('display.max_columns', None) ## Display all columns"
   ]
  },
  {
   "cell_type": "code",
   "execution_count": 3,
   "metadata": {},
   "outputs": [],
   "source": [
    "anime = pd.read_csv('Dataset/anime.csv')"
   ]
  },
  {
   "cell_type": "code",
   "execution_count": 4,
   "metadata": {},
   "outputs": [],
   "source": [
    "anime_with_synopsis = pd.read_csv('Dataset/anime_with_synopsis.csv')"
   ]
  },
  {
   "cell_type": "code",
   "execution_count": 5,
   "metadata": {},
   "outputs": [],
   "source": [
    "animelist = pd.read_csv('Dataset/animelist.csv', dtype={\n",
    "\t'anime_id': 'int32',\n",
    "\t'user_id': 'int32',\n",
    "\t'rating': 'float32'\n",
    "}, usecols=['anime_id', 'user_id', 'rating'])"
   ]
  },
  {
   "cell_type": "code",
   "execution_count": 6,
   "metadata": {},
   "outputs": [
    {
     "data": {
      "text/html": [
       "<div>\n",
       "<style scoped>\n",
       "    .dataframe tbody tr th:only-of-type {\n",
       "        vertical-align: middle;\n",
       "    }\n",
       "\n",
       "    .dataframe tbody tr th {\n",
       "        vertical-align: top;\n",
       "    }\n",
       "\n",
       "    .dataframe thead th {\n",
       "        text-align: right;\n",
       "    }\n",
       "</style>\n",
       "<table border=\"1\" class=\"dataframe\">\n",
       "  <thead>\n",
       "    <tr style=\"text-align: right;\">\n",
       "      <th></th>\n",
       "      <th>MAL_ID</th>\n",
       "      <th>Name</th>\n",
       "      <th>Score</th>\n",
       "      <th>Genres</th>\n",
       "      <th>English name</th>\n",
       "      <th>Japanese name</th>\n",
       "      <th>Type</th>\n",
       "      <th>Episodes</th>\n",
       "      <th>Aired</th>\n",
       "      <th>Premiered</th>\n",
       "      <th>Producers</th>\n",
       "      <th>Licensors</th>\n",
       "      <th>Studios</th>\n",
       "      <th>Source</th>\n",
       "      <th>Duration</th>\n",
       "      <th>Rating</th>\n",
       "      <th>Ranked</th>\n",
       "      <th>Popularity</th>\n",
       "      <th>Members</th>\n",
       "      <th>Favorites</th>\n",
       "      <th>Watching</th>\n",
       "      <th>Completed</th>\n",
       "      <th>On-Hold</th>\n",
       "      <th>Dropped</th>\n",
       "      <th>Plan to Watch</th>\n",
       "      <th>Score-10</th>\n",
       "      <th>Score-9</th>\n",
       "      <th>Score-8</th>\n",
       "      <th>Score-7</th>\n",
       "      <th>Score-6</th>\n",
       "      <th>Score-5</th>\n",
       "      <th>Score-4</th>\n",
       "      <th>Score-3</th>\n",
       "      <th>Score-2</th>\n",
       "      <th>Score-1</th>\n",
       "    </tr>\n",
       "  </thead>\n",
       "  <tbody>\n",
       "    <tr>\n",
       "      <th>0</th>\n",
       "      <td>1</td>\n",
       "      <td>Cowboy Bebop</td>\n",
       "      <td>8.78</td>\n",
       "      <td>Action, Adventure, Comedy, Drama, Sci-Fi, Space</td>\n",
       "      <td>Cowboy Bebop</td>\n",
       "      <td>カウボーイビバップ</td>\n",
       "      <td>TV</td>\n",
       "      <td>26</td>\n",
       "      <td>Apr 3, 1998 to Apr 24, 1999</td>\n",
       "      <td>Spring 1998</td>\n",
       "      <td>Bandai Visual</td>\n",
       "      <td>Funimation, Bandai Entertainment</td>\n",
       "      <td>Sunrise</td>\n",
       "      <td>Original</td>\n",
       "      <td>24 min. per ep.</td>\n",
       "      <td>R - 17+ (violence &amp; profanity)</td>\n",
       "      <td>28.0</td>\n",
       "      <td>39</td>\n",
       "      <td>1251960</td>\n",
       "      <td>61971</td>\n",
       "      <td>105808</td>\n",
       "      <td>718161</td>\n",
       "      <td>71513</td>\n",
       "      <td>26678</td>\n",
       "      <td>329800</td>\n",
       "      <td>229170.0</td>\n",
       "      <td>182126.0</td>\n",
       "      <td>131625.0</td>\n",
       "      <td>62330.0</td>\n",
       "      <td>20688.0</td>\n",
       "      <td>8904.0</td>\n",
       "      <td>3184.0</td>\n",
       "      <td>1357.0</td>\n",
       "      <td>741.0</td>\n",
       "      <td>1580.0</td>\n",
       "    </tr>\n",
       "  </tbody>\n",
       "</table>\n",
       "</div>"
      ],
      "text/plain": [
       "   MAL_ID          Name Score  \\\n",
       "0       1  Cowboy Bebop  8.78   \n",
       "\n",
       "                                            Genres  English name  \\\n",
       "0  Action, Adventure, Comedy, Drama, Sci-Fi, Space  Cowboy Bebop   \n",
       "\n",
       "  Japanese name Type Episodes                        Aired    Premiered  \\\n",
       "0     カウボーイビバップ   TV       26  Apr 3, 1998 to Apr 24, 1999  Spring 1998   \n",
       "\n",
       "       Producers                         Licensors  Studios    Source  \\\n",
       "0  Bandai Visual  Funimation, Bandai Entertainment  Sunrise  Original   \n",
       "\n",
       "          Duration                          Rating Ranked  Popularity  \\\n",
       "0  24 min. per ep.  R - 17+ (violence & profanity)   28.0          39   \n",
       "\n",
       "   Members  Favorites  Watching  Completed  On-Hold  Dropped  Plan to Watch  \\\n",
       "0  1251960      61971    105808     718161    71513    26678         329800   \n",
       "\n",
       "   Score-10   Score-9   Score-8  Score-7  Score-6 Score-5 Score-4 Score-3  \\\n",
       "0  229170.0  182126.0  131625.0  62330.0  20688.0  8904.0  3184.0  1357.0   \n",
       "\n",
       "  Score-2 Score-1  \n",
       "0   741.0  1580.0  "
      ]
     },
     "execution_count": 6,
     "metadata": {},
     "output_type": "execute_result"
    }
   ],
   "source": [
    "anime.head(1)"
   ]
  },
  {
   "cell_type": "code",
   "execution_count": 7,
   "metadata": {},
   "outputs": [
    {
     "data": {
      "text/html": [
       "<div>\n",
       "<style scoped>\n",
       "    .dataframe tbody tr th:only-of-type {\n",
       "        vertical-align: middle;\n",
       "    }\n",
       "\n",
       "    .dataframe tbody tr th {\n",
       "        vertical-align: top;\n",
       "    }\n",
       "\n",
       "    .dataframe thead th {\n",
       "        text-align: right;\n",
       "    }\n",
       "</style>\n",
       "<table border=\"1\" class=\"dataframe\">\n",
       "  <thead>\n",
       "    <tr style=\"text-align: right;\">\n",
       "      <th></th>\n",
       "      <th>MAL_ID</th>\n",
       "      <th>Name</th>\n",
       "      <th>Score</th>\n",
       "      <th>Genres</th>\n",
       "      <th>sypnopsis</th>\n",
       "    </tr>\n",
       "  </thead>\n",
       "  <tbody>\n",
       "    <tr>\n",
       "      <th>0</th>\n",
       "      <td>1</td>\n",
       "      <td>Cowboy Bebop</td>\n",
       "      <td>8.78</td>\n",
       "      <td>Action, Adventure, Comedy, Drama, Sci-Fi, Space</td>\n",
       "      <td>In the year 2071, humanity has colonized sever...</td>\n",
       "    </tr>\n",
       "  </tbody>\n",
       "</table>\n",
       "</div>"
      ],
      "text/plain": [
       "   MAL_ID          Name Score  \\\n",
       "0       1  Cowboy Bebop  8.78   \n",
       "\n",
       "                                            Genres  \\\n",
       "0  Action, Adventure, Comedy, Drama, Sci-Fi, Space   \n",
       "\n",
       "                                           sypnopsis  \n",
       "0  In the year 2071, humanity has colonized sever...  "
      ]
     },
     "execution_count": 7,
     "metadata": {},
     "output_type": "execute_result"
    }
   ],
   "source": [
    "anime_with_synopsis.head(1)"
   ]
  },
  {
   "cell_type": "code",
   "execution_count": 8,
   "metadata": {},
   "outputs": [],
   "source": [
    "anime = anime.merge(anime_with_synopsis, on='MAL_ID')"
   ]
  },
  {
   "cell_type": "code",
   "execution_count": 9,
   "metadata": {},
   "outputs": [
    {
     "data": {
      "text/html": [
       "<div>\n",
       "<style scoped>\n",
       "    .dataframe tbody tr th:only-of-type {\n",
       "        vertical-align: middle;\n",
       "    }\n",
       "\n",
       "    .dataframe tbody tr th {\n",
       "        vertical-align: top;\n",
       "    }\n",
       "\n",
       "    .dataframe thead th {\n",
       "        text-align: right;\n",
       "    }\n",
       "</style>\n",
       "<table border=\"1\" class=\"dataframe\">\n",
       "  <thead>\n",
       "    <tr style=\"text-align: right;\">\n",
       "      <th></th>\n",
       "      <th>user_id</th>\n",
       "      <th>anime_id</th>\n",
       "      <th>rating</th>\n",
       "    </tr>\n",
       "  </thead>\n",
       "  <tbody>\n",
       "    <tr>\n",
       "      <th>0</th>\n",
       "      <td>0</td>\n",
       "      <td>67</td>\n",
       "      <td>9.0</td>\n",
       "    </tr>\n",
       "  </tbody>\n",
       "</table>\n",
       "</div>"
      ],
      "text/plain": [
       "   user_id  anime_id  rating\n",
       "0        0        67     9.0"
      ]
     },
     "execution_count": 9,
     "metadata": {},
     "output_type": "execute_result"
    }
   ],
   "source": [
    "animelist.head(1)"
   ]
  },
  {
   "cell_type": "code",
   "execution_count": 10,
   "metadata": {},
   "outputs": [
    {
     "data": {
      "text/plain": [
       "np.int64(0)"
      ]
     },
     "execution_count": 10,
     "metadata": {},
     "output_type": "execute_result"
    }
   ],
   "source": [
    "anime.duplicated().sum()"
   ]
  },
  {
   "cell_type": "code",
   "execution_count": 11,
   "metadata": {},
   "outputs": [
    {
     "data": {
      "text/html": [
       "<div>\n",
       "<style scoped>\n",
       "    .dataframe tbody tr th:only-of-type {\n",
       "        vertical-align: middle;\n",
       "    }\n",
       "\n",
       "    .dataframe tbody tr th {\n",
       "        vertical-align: top;\n",
       "    }\n",
       "\n",
       "    .dataframe thead th {\n",
       "        text-align: right;\n",
       "    }\n",
       "</style>\n",
       "<table border=\"1\" class=\"dataframe\">\n",
       "  <thead>\n",
       "    <tr style=\"text-align: right;\">\n",
       "      <th></th>\n",
       "      <th>MAL_ID</th>\n",
       "      <th>Name_x</th>\n",
       "      <th>Score_x</th>\n",
       "      <th>Genres_x</th>\n",
       "      <th>English name</th>\n",
       "      <th>Japanese name</th>\n",
       "      <th>Type</th>\n",
       "      <th>Episodes</th>\n",
       "      <th>Aired</th>\n",
       "      <th>Premiered</th>\n",
       "      <th>Producers</th>\n",
       "      <th>Licensors</th>\n",
       "      <th>Studios</th>\n",
       "      <th>Source</th>\n",
       "      <th>Duration</th>\n",
       "      <th>Rating</th>\n",
       "      <th>Ranked</th>\n",
       "      <th>Popularity</th>\n",
       "      <th>Members</th>\n",
       "      <th>Favorites</th>\n",
       "      <th>Watching</th>\n",
       "      <th>Completed</th>\n",
       "      <th>On-Hold</th>\n",
       "      <th>Dropped</th>\n",
       "      <th>Plan to Watch</th>\n",
       "      <th>Score-10</th>\n",
       "      <th>Score-9</th>\n",
       "      <th>Score-8</th>\n",
       "      <th>Score-7</th>\n",
       "      <th>Score-6</th>\n",
       "      <th>Score-5</th>\n",
       "      <th>Score-4</th>\n",
       "      <th>Score-3</th>\n",
       "      <th>Score-2</th>\n",
       "      <th>Score-1</th>\n",
       "      <th>Name_y</th>\n",
       "      <th>Score_y</th>\n",
       "      <th>Genres_y</th>\n",
       "      <th>sypnopsis</th>\n",
       "    </tr>\n",
       "  </thead>\n",
       "  <tbody>\n",
       "    <tr>\n",
       "      <th>0</th>\n",
       "      <td>1</td>\n",
       "      <td>Cowboy Bebop</td>\n",
       "      <td>8.78</td>\n",
       "      <td>Action, Adventure, Comedy, Drama, Sci-Fi, Space</td>\n",
       "      <td>Cowboy Bebop</td>\n",
       "      <td>カウボーイビバップ</td>\n",
       "      <td>TV</td>\n",
       "      <td>26</td>\n",
       "      <td>Apr 3, 1998 to Apr 24, 1999</td>\n",
       "      <td>Spring 1998</td>\n",
       "      <td>Bandai Visual</td>\n",
       "      <td>Funimation, Bandai Entertainment</td>\n",
       "      <td>Sunrise</td>\n",
       "      <td>Original</td>\n",
       "      <td>24 min. per ep.</td>\n",
       "      <td>R - 17+ (violence &amp; profanity)</td>\n",
       "      <td>28.0</td>\n",
       "      <td>39</td>\n",
       "      <td>1251960</td>\n",
       "      <td>61971</td>\n",
       "      <td>105808</td>\n",
       "      <td>718161</td>\n",
       "      <td>71513</td>\n",
       "      <td>26678</td>\n",
       "      <td>329800</td>\n",
       "      <td>229170.0</td>\n",
       "      <td>182126.0</td>\n",
       "      <td>131625.0</td>\n",
       "      <td>62330.0</td>\n",
       "      <td>20688.0</td>\n",
       "      <td>8904.0</td>\n",
       "      <td>3184.0</td>\n",
       "      <td>1357.0</td>\n",
       "      <td>741.0</td>\n",
       "      <td>1580.0</td>\n",
       "      <td>Cowboy Bebop</td>\n",
       "      <td>8.78</td>\n",
       "      <td>Action, Adventure, Comedy, Drama, Sci-Fi, Space</td>\n",
       "      <td>In the year 2071, humanity has colonized sever...</td>\n",
       "    </tr>\n",
       "  </tbody>\n",
       "</table>\n",
       "</div>"
      ],
      "text/plain": [
       "   MAL_ID        Name_x Score_x  \\\n",
       "0       1  Cowboy Bebop    8.78   \n",
       "\n",
       "                                          Genres_x  English name  \\\n",
       "0  Action, Adventure, Comedy, Drama, Sci-Fi, Space  Cowboy Bebop   \n",
       "\n",
       "  Japanese name Type Episodes                        Aired    Premiered  \\\n",
       "0     カウボーイビバップ   TV       26  Apr 3, 1998 to Apr 24, 1999  Spring 1998   \n",
       "\n",
       "       Producers                         Licensors  Studios    Source  \\\n",
       "0  Bandai Visual  Funimation, Bandai Entertainment  Sunrise  Original   \n",
       "\n",
       "          Duration                          Rating Ranked  Popularity  \\\n",
       "0  24 min. per ep.  R - 17+ (violence & profanity)   28.0          39   \n",
       "\n",
       "   Members  Favorites  Watching  Completed  On-Hold  Dropped  Plan to Watch  \\\n",
       "0  1251960      61971    105808     718161    71513    26678         329800   \n",
       "\n",
       "   Score-10   Score-9   Score-8  Score-7  Score-6 Score-5 Score-4 Score-3  \\\n",
       "0  229170.0  182126.0  131625.0  62330.0  20688.0  8904.0  3184.0  1357.0   \n",
       "\n",
       "  Score-2 Score-1        Name_y Score_y  \\\n",
       "0   741.0  1580.0  Cowboy Bebop    8.78   \n",
       "\n",
       "                                          Genres_y  \\\n",
       "0  Action, Adventure, Comedy, Drama, Sci-Fi, Space   \n",
       "\n",
       "                                           sypnopsis  \n",
       "0  In the year 2071, humanity has colonized sever...  "
      ]
     },
     "execution_count": 11,
     "metadata": {},
     "output_type": "execute_result"
    }
   ],
   "source": [
    "anime.head(1)"
   ]
  },
  {
   "cell_type": "code",
   "execution_count": 12,
   "metadata": {},
   "outputs": [
    {
     "data": {
      "text/plain": [
       "MAL_ID               0\n",
       "Name_x               0\n",
       "Score_x           5123\n",
       "Genres_x            63\n",
       "English name      9621\n",
       "Japanese name       45\n",
       "Type                37\n",
       "Episodes           477\n",
       "Aired              308\n",
       "Premiered        11469\n",
       "Producers         7458\n",
       "Licensors        12467\n",
       "Studios           6165\n",
       "Source            3318\n",
       "Duration           551\n",
       "Rating             688\n",
       "Ranked             414\n",
       "Popularity           0\n",
       "Members              0\n",
       "Favorites            0\n",
       "Watching             0\n",
       "Completed            0\n",
       "On-Hold              0\n",
       "Dropped              0\n",
       "Plan to Watch        0\n",
       "Score-10           436\n",
       "Score-9           3154\n",
       "Score-8           1363\n",
       "Score-7            501\n",
       "Score-6            509\n",
       "Score-5            582\n",
       "Score-4            974\n",
       "Score-3           1304\n",
       "Score-2           1595\n",
       "Score-1            457\n",
       "Name_y               0\n",
       "Score_y           5123\n",
       "Genres_y            63\n",
       "sypnopsis            0\n",
       "dtype: int64"
      ]
     },
     "execution_count": 12,
     "metadata": {},
     "output_type": "execute_result"
    }
   ],
   "source": [
    "anime.isin(['Unknown']).sum()"
   ]
  },
  {
   "cell_type": "code",
   "execution_count": 13,
   "metadata": {},
   "outputs": [],
   "source": [
    "anime = anime.replace('Unknown', np.nan)\n",
    "anime = anime[[\"MAL_ID\", \"Name_x\", \"Genres_x\", \"Episodes\", \"Score_x\", \"Members\", \"sypnopsis\", \"English name\"]]"
   ]
  },
  {
   "cell_type": "code",
   "execution_count": 14,
   "metadata": {},
   "outputs": [],
   "source": [
    "anime.rename(columns={\"MAL_ID\":\"Anime ID\", \"Name_x\":\"Name\", \"Genres_x\":\"Genres\", \"Episodes\":\"Number of Episodes\", \"Score_x\":\"Rating\", \"sypnopsis\": \"Synopsis\"}, inplace=True)"
   ]
  },
  {
   "cell_type": "code",
   "execution_count": 15,
   "metadata": {},
   "outputs": [
    {
     "data": {
      "text/html": [
       "<div>\n",
       "<style scoped>\n",
       "    .dataframe tbody tr th:only-of-type {\n",
       "        vertical-align: middle;\n",
       "    }\n",
       "\n",
       "    .dataframe tbody tr th {\n",
       "        vertical-align: top;\n",
       "    }\n",
       "\n",
       "    .dataframe thead th {\n",
       "        text-align: right;\n",
       "    }\n",
       "</style>\n",
       "<table border=\"1\" class=\"dataframe\">\n",
       "  <thead>\n",
       "    <tr style=\"text-align: right;\">\n",
       "      <th></th>\n",
       "      <th>Anime ID</th>\n",
       "      <th>Name</th>\n",
       "      <th>Genres</th>\n",
       "      <th>Number of Episodes</th>\n",
       "      <th>Rating</th>\n",
       "      <th>Members</th>\n",
       "      <th>Synopsis</th>\n",
       "      <th>English name</th>\n",
       "    </tr>\n",
       "  </thead>\n",
       "  <tbody>\n",
       "    <tr>\n",
       "      <th>0</th>\n",
       "      <td>1</td>\n",
       "      <td>Cowboy Bebop</td>\n",
       "      <td>Action, Adventure, Comedy, Drama, Sci-Fi, Space</td>\n",
       "      <td>26</td>\n",
       "      <td>8.78</td>\n",
       "      <td>1251960</td>\n",
       "      <td>In the year 2071, humanity has colonized sever...</td>\n",
       "      <td>Cowboy Bebop</td>\n",
       "    </tr>\n",
       "  </tbody>\n",
       "</table>\n",
       "</div>"
      ],
      "text/plain": [
       "   Anime ID          Name                                           Genres  \\\n",
       "0         1  Cowboy Bebop  Action, Adventure, Comedy, Drama, Sci-Fi, Space   \n",
       "\n",
       "  Number of Episodes Rating  Members  \\\n",
       "0                 26   8.78  1251960   \n",
       "\n",
       "                                            Synopsis  English name  \n",
       "0  In the year 2071, humanity has colonized sever...  Cowboy Bebop  "
      ]
     },
     "execution_count": 15,
     "metadata": {},
     "output_type": "execute_result"
    }
   ],
   "source": [
    "anime.head(1)"
   ]
  },
  {
   "cell_type": "code",
   "execution_count": 16,
   "metadata": {},
   "outputs": [
    {
     "name": "stdout",
     "output_type": "stream",
     "text": [
      "<class 'pandas.core.frame.DataFrame'>\n",
      "RangeIndex: 16214 entries, 0 to 16213\n",
      "Data columns (total 8 columns):\n",
      " #   Column              Non-Null Count  Dtype \n",
      "---  ------              --------------  ----- \n",
      " 0   Anime ID            16214 non-null  int64 \n",
      " 1   Name                16214 non-null  object\n",
      " 2   Genres              16151 non-null  object\n",
      " 3   Number of Episodes  15737 non-null  object\n",
      " 4   Rating              11091 non-null  object\n",
      " 5   Members             16214 non-null  int64 \n",
      " 6   Synopsis            16206 non-null  object\n",
      " 7   English name        6593 non-null   object\n",
      "dtypes: int64(2), object(6)\n",
      "memory usage: 1013.5+ KB\n"
     ]
    }
   ],
   "source": [
    "anime.info()"
   ]
  },
  {
   "cell_type": "code",
   "execution_count": 17,
   "metadata": {},
   "outputs": [],
   "source": [
    "anime['Rating'] = anime['Rating'].astype(float)\n",
    "anime['Number of Episodes'] = anime['Number of Episodes'].fillna(0).astype(int)"
   ]
  },
  {
   "cell_type": "code",
   "execution_count": 18,
   "metadata": {},
   "outputs": [
    {
     "data": {
      "text/plain": [
       "Anime ID                 0\n",
       "Name                     0\n",
       "Genres                  63\n",
       "Number of Episodes       0\n",
       "Rating                5123\n",
       "Members                  0\n",
       "Synopsis                 8\n",
       "English name          9621\n",
       "dtype: int64"
      ]
     },
     "execution_count": 18,
     "metadata": {},
     "output_type": "execute_result"
    }
   ],
   "source": [
    "anime.isnull().sum()"
   ]
  },
  {
   "cell_type": "code",
   "execution_count": 19,
   "metadata": {},
   "outputs": [],
   "source": [
    "anime['Rating'] = anime['Rating'].fillna(anime['Rating'].mean())"
   ]
  },
  {
   "cell_type": "code",
   "execution_count": 20,
   "metadata": {},
   "outputs": [],
   "source": [
    "anime['Genres'] = anime['Genres'].fillna('Unknown')"
   ]
  },
  {
   "cell_type": "code",
   "execution_count": 21,
   "metadata": {},
   "outputs": [],
   "source": [
    "anime['Synopsis'] = anime['Synopsis'].fillna('Unknown')"
   ]
  },
  {
   "cell_type": "code",
   "execution_count": 22,
   "metadata": {},
   "outputs": [
    {
     "data": {
      "text/plain": [
       "np.int64(0)"
      ]
     },
     "execution_count": 22,
     "metadata": {},
     "output_type": "execute_result"
    }
   ],
   "source": [
    "anime.duplicated().sum()"
   ]
  },
  {
   "cell_type": "code",
   "execution_count": 23,
   "metadata": {},
   "outputs": [
    {
     "name": "stdout",
     "output_type": "stream",
     "text": [
      "<class 'pandas.core.frame.DataFrame'>\n",
      "RangeIndex: 16214 entries, 0 to 16213\n",
      "Data columns (total 8 columns):\n",
      " #   Column              Non-Null Count  Dtype  \n",
      "---  ------              --------------  -----  \n",
      " 0   Anime ID            16214 non-null  int64  \n",
      " 1   Name                16214 non-null  object \n",
      " 2   Genres              16214 non-null  object \n",
      " 3   Number of Episodes  16214 non-null  int64  \n",
      " 4   Rating              16214 non-null  float64\n",
      " 5   Members             16214 non-null  int64  \n",
      " 6   Synopsis            16214 non-null  object \n",
      " 7   English name        6593 non-null   object \n",
      "dtypes: float64(1), int64(3), object(4)\n",
      "memory usage: 1013.5+ KB\n"
     ]
    }
   ],
   "source": [
    "anime.info()"
   ]
  },
  {
   "cell_type": "code",
   "execution_count": 24,
   "metadata": {},
   "outputs": [
    {
     "data": {
      "text/plain": [
       "0    Action, Adventure, Comedy, Drama, Sci-Fi, Space\n",
       "Name: Genres, dtype: object"
      ]
     },
     "execution_count": 24,
     "metadata": {},
     "output_type": "execute_result"
    }
   ],
   "source": [
    "anime['Genres'].head(1)"
   ]
  },
  {
   "cell_type": "code",
   "execution_count": 25,
   "metadata": {},
   "outputs": [
    {
     "data": {
      "text/html": [
       "<div>\n",
       "<style scoped>\n",
       "    .dataframe tbody tr th:only-of-type {\n",
       "        vertical-align: middle;\n",
       "    }\n",
       "\n",
       "    .dataframe tbody tr th {\n",
       "        vertical-align: top;\n",
       "    }\n",
       "\n",
       "    .dataframe thead th {\n",
       "        text-align: right;\n",
       "    }\n",
       "</style>\n",
       "<table border=\"1\" class=\"dataframe\">\n",
       "  <thead>\n",
       "    <tr style=\"text-align: right;\">\n",
       "      <th></th>\n",
       "      <th>Anime ID</th>\n",
       "      <th>Number of Episodes</th>\n",
       "      <th>Rating</th>\n",
       "      <th>Members</th>\n",
       "    </tr>\n",
       "  </thead>\n",
       "  <tbody>\n",
       "    <tr>\n",
       "      <th>count</th>\n",
       "      <td>16214.000000</td>\n",
       "      <td>16214.000000</td>\n",
       "      <td>16214.000000</td>\n",
       "      <td>1.621400e+04</td>\n",
       "    </tr>\n",
       "    <tr>\n",
       "      <th>mean</th>\n",
       "      <td>22069.271555</td>\n",
       "      <td>11.944122</td>\n",
       "      <td>6.554863</td>\n",
       "      <td>3.709850e+04</td>\n",
       "    </tr>\n",
       "    <tr>\n",
       "      <th>std</th>\n",
       "      <td>14849.798248</td>\n",
       "      <td>48.511471</td>\n",
       "      <td>0.744655</td>\n",
       "      <td>1.300729e+05</td>\n",
       "    </tr>\n",
       "    <tr>\n",
       "      <th>min</th>\n",
       "      <td>1.000000</td>\n",
       "      <td>0.000000</td>\n",
       "      <td>1.850000</td>\n",
       "      <td>1.000000e+00</td>\n",
       "    </tr>\n",
       "    <tr>\n",
       "      <th>25%</th>\n",
       "      <td>6728.500000</td>\n",
       "      <td>1.000000</td>\n",
       "      <td>6.270000</td>\n",
       "      <td>3.030000e+02</td>\n",
       "    </tr>\n",
       "    <tr>\n",
       "      <th>50%</th>\n",
       "      <td>24164.000000</td>\n",
       "      <td>1.000000</td>\n",
       "      <td>6.554863</td>\n",
       "      <td>1.773500e+03</td>\n",
       "    </tr>\n",
       "    <tr>\n",
       "      <th>75%</th>\n",
       "      <td>35978.750000</td>\n",
       "      <td>12.000000</td>\n",
       "      <td>6.900000</td>\n",
       "      <td>1.554000e+04</td>\n",
       "    </tr>\n",
       "    <tr>\n",
       "      <th>max</th>\n",
       "      <td>48492.000000</td>\n",
       "      <td>3057.000000</td>\n",
       "      <td>9.190000</td>\n",
       "      <td>2.589552e+06</td>\n",
       "    </tr>\n",
       "  </tbody>\n",
       "</table>\n",
       "</div>"
      ],
      "text/plain": [
       "           Anime ID  Number of Episodes        Rating       Members\n",
       "count  16214.000000        16214.000000  16214.000000  1.621400e+04\n",
       "mean   22069.271555           11.944122      6.554863  3.709850e+04\n",
       "std    14849.798248           48.511471      0.744655  1.300729e+05\n",
       "min        1.000000            0.000000      1.850000  1.000000e+00\n",
       "25%     6728.500000            1.000000      6.270000  3.030000e+02\n",
       "50%    24164.000000            1.000000      6.554863  1.773500e+03\n",
       "75%    35978.750000           12.000000      6.900000  1.554000e+04\n",
       "max    48492.000000         3057.000000      9.190000  2.589552e+06"
      ]
     },
     "execution_count": 25,
     "metadata": {},
     "output_type": "execute_result"
    }
   ],
   "source": [
    "anime.describe()"
   ]
  },
  {
   "cell_type": "code",
   "execution_count": 26,
   "metadata": {},
   "outputs": [
    {
     "data": {
      "text/html": [
       "<div>\n",
       "<style scoped>\n",
       "    .dataframe tbody tr th:only-of-type {\n",
       "        vertical-align: middle;\n",
       "    }\n",
       "\n",
       "    .dataframe tbody tr th {\n",
       "        vertical-align: top;\n",
       "    }\n",
       "\n",
       "    .dataframe thead th {\n",
       "        text-align: right;\n",
       "    }\n",
       "</style>\n",
       "<table border=\"1\" class=\"dataframe\">\n",
       "  <thead>\n",
       "    <tr style=\"text-align: right;\">\n",
       "      <th></th>\n",
       "      <th>Anime ID</th>\n",
       "      <th>Name</th>\n",
       "      <th>Genres</th>\n",
       "      <th>Number of Episodes</th>\n",
       "      <th>Rating</th>\n",
       "      <th>Members</th>\n",
       "      <th>Synopsis</th>\n",
       "      <th>English name</th>\n",
       "    </tr>\n",
       "  </thead>\n",
       "  <tbody>\n",
       "    <tr>\n",
       "      <th>0</th>\n",
       "      <td>1</td>\n",
       "      <td>Cowboy Bebop</td>\n",
       "      <td>Action, Adventure, Comedy, Drama, Sci-Fi, Space</td>\n",
       "      <td>26</td>\n",
       "      <td>8.780000</td>\n",
       "      <td>1251960</td>\n",
       "      <td>In the year 2071, humanity has colonized sever...</td>\n",
       "      <td>Cowboy Bebop</td>\n",
       "    </tr>\n",
       "    <tr>\n",
       "      <th>1</th>\n",
       "      <td>5</td>\n",
       "      <td>Cowboy Bebop: Tengoku no Tobira</td>\n",
       "      <td>Action, Drama, Mystery, Sci-Fi, Space</td>\n",
       "      <td>1</td>\n",
       "      <td>8.390000</td>\n",
       "      <td>273145</td>\n",
       "      <td>other day, another bounty—such is the life of ...</td>\n",
       "      <td>Cowboy Bebop:The Movie</td>\n",
       "    </tr>\n",
       "    <tr>\n",
       "      <th>2</th>\n",
       "      <td>6</td>\n",
       "      <td>Trigun</td>\n",
       "      <td>Action, Sci-Fi, Adventure, Comedy, Drama, Shounen</td>\n",
       "      <td>26</td>\n",
       "      <td>8.240000</td>\n",
       "      <td>558913</td>\n",
       "      <td>Vash the Stampede is the man with a $$60,000,0...</td>\n",
       "      <td>Trigun</td>\n",
       "    </tr>\n",
       "    <tr>\n",
       "      <th>3</th>\n",
       "      <td>7</td>\n",
       "      <td>Witch Hunter Robin</td>\n",
       "      <td>Action, Mystery, Police, Supernatural, Drama, ...</td>\n",
       "      <td>26</td>\n",
       "      <td>7.270000</td>\n",
       "      <td>94683</td>\n",
       "      <td>ches are individuals with special powers like ...</td>\n",
       "      <td>Witch Hunter Robin</td>\n",
       "    </tr>\n",
       "    <tr>\n",
       "      <th>4</th>\n",
       "      <td>8</td>\n",
       "      <td>Bouken Ou Beet</td>\n",
       "      <td>Adventure, Fantasy, Shounen, Supernatural</td>\n",
       "      <td>52</td>\n",
       "      <td>6.980000</td>\n",
       "      <td>13224</td>\n",
       "      <td>It is the dark century and the people are suff...</td>\n",
       "      <td>Beet the Vandel Buster</td>\n",
       "    </tr>\n",
       "    <tr>\n",
       "      <th>...</th>\n",
       "      <td>...</td>\n",
       "      <td>...</td>\n",
       "      <td>...</td>\n",
       "      <td>...</td>\n",
       "      <td>...</td>\n",
       "      <td>...</td>\n",
       "      <td>...</td>\n",
       "      <td>...</td>\n",
       "    </tr>\n",
       "    <tr>\n",
       "      <th>16209</th>\n",
       "      <td>48481</td>\n",
       "      <td>Daomu Biji Zhi Qinling Shen Shu</td>\n",
       "      <td>Adventure, Mystery, Supernatural</td>\n",
       "      <td>0</td>\n",
       "      <td>6.554863</td>\n",
       "      <td>354</td>\n",
       "      <td>No synopsis information has been added to this...</td>\n",
       "      <td>NaN</td>\n",
       "    </tr>\n",
       "    <tr>\n",
       "      <th>16210</th>\n",
       "      <td>48483</td>\n",
       "      <td>Mieruko-chan</td>\n",
       "      <td>Comedy, Horror, Supernatural</td>\n",
       "      <td>0</td>\n",
       "      <td>6.554863</td>\n",
       "      <td>7010</td>\n",
       "      <td>ko is a typical high school student whose life...</td>\n",
       "      <td>NaN</td>\n",
       "    </tr>\n",
       "    <tr>\n",
       "      <th>16211</th>\n",
       "      <td>48488</td>\n",
       "      <td>Higurashi no Naku Koro ni Sotsu</td>\n",
       "      <td>Mystery, Dementia, Horror, Psychological, Supe...</td>\n",
       "      <td>0</td>\n",
       "      <td>6.554863</td>\n",
       "      <td>11309</td>\n",
       "      <td>Sequel to Higurashi no Naku Koro ni Gou .</td>\n",
       "      <td>Higurashi:When They Cry – SOTSU</td>\n",
       "    </tr>\n",
       "    <tr>\n",
       "      <th>16212</th>\n",
       "      <td>48491</td>\n",
       "      <td>Yama no Susume: Next Summit</td>\n",
       "      <td>Adventure, Slice of Life, Comedy</td>\n",
       "      <td>0</td>\n",
       "      <td>6.554863</td>\n",
       "      <td>1386</td>\n",
       "      <td>New Yama no Susume anime.</td>\n",
       "      <td>NaN</td>\n",
       "    </tr>\n",
       "    <tr>\n",
       "      <th>16213</th>\n",
       "      <td>48492</td>\n",
       "      <td>Scarlet Nexus</td>\n",
       "      <td>Action, Fantasy</td>\n",
       "      <td>0</td>\n",
       "      <td>6.554863</td>\n",
       "      <td>310</td>\n",
       "      <td>Solar calendar year 2020: grotesque organisms ...</td>\n",
       "      <td>NaN</td>\n",
       "    </tr>\n",
       "  </tbody>\n",
       "</table>\n",
       "<p>16214 rows × 8 columns</p>\n",
       "</div>"
      ],
      "text/plain": [
       "       Anime ID                             Name  \\\n",
       "0             1                     Cowboy Bebop   \n",
       "1             5  Cowboy Bebop: Tengoku no Tobira   \n",
       "2             6                           Trigun   \n",
       "3             7               Witch Hunter Robin   \n",
       "4             8                   Bouken Ou Beet   \n",
       "...         ...                              ...   \n",
       "16209     48481  Daomu Biji Zhi Qinling Shen Shu   \n",
       "16210     48483                     Mieruko-chan   \n",
       "16211     48488  Higurashi no Naku Koro ni Sotsu   \n",
       "16212     48491      Yama no Susume: Next Summit   \n",
       "16213     48492                    Scarlet Nexus   \n",
       "\n",
       "                                                  Genres  Number of Episodes  \\\n",
       "0        Action, Adventure, Comedy, Drama, Sci-Fi, Space                  26   \n",
       "1                  Action, Drama, Mystery, Sci-Fi, Space                   1   \n",
       "2      Action, Sci-Fi, Adventure, Comedy, Drama, Shounen                  26   \n",
       "3      Action, Mystery, Police, Supernatural, Drama, ...                  26   \n",
       "4              Adventure, Fantasy, Shounen, Supernatural                  52   \n",
       "...                                                  ...                 ...   \n",
       "16209                   Adventure, Mystery, Supernatural                   0   \n",
       "16210                       Comedy, Horror, Supernatural                   0   \n",
       "16211  Mystery, Dementia, Horror, Psychological, Supe...                   0   \n",
       "16212                   Adventure, Slice of Life, Comedy                   0   \n",
       "16213                                    Action, Fantasy                   0   \n",
       "\n",
       "         Rating  Members                                           Synopsis  \\\n",
       "0      8.780000  1251960  In the year 2071, humanity has colonized sever...   \n",
       "1      8.390000   273145  other day, another bounty—such is the life of ...   \n",
       "2      8.240000   558913  Vash the Stampede is the man with a $$60,000,0...   \n",
       "3      7.270000    94683  ches are individuals with special powers like ...   \n",
       "4      6.980000    13224  It is the dark century and the people are suff...   \n",
       "...         ...      ...                                                ...   \n",
       "16209  6.554863      354  No synopsis information has been added to this...   \n",
       "16210  6.554863     7010  ko is a typical high school student whose life...   \n",
       "16211  6.554863    11309          Sequel to Higurashi no Naku Koro ni Gou .   \n",
       "16212  6.554863     1386                          New Yama no Susume anime.   \n",
       "16213  6.554863      310  Solar calendar year 2020: grotesque organisms ...   \n",
       "\n",
       "                          English name  \n",
       "0                         Cowboy Bebop  \n",
       "1               Cowboy Bebop:The Movie  \n",
       "2                               Trigun  \n",
       "3                   Witch Hunter Robin  \n",
       "4               Beet the Vandel Buster  \n",
       "...                                ...  \n",
       "16209                              NaN  \n",
       "16210                              NaN  \n",
       "16211  Higurashi:When They Cry – SOTSU  \n",
       "16212                              NaN  \n",
       "16213                              NaN  \n",
       "\n",
       "[16214 rows x 8 columns]"
      ]
     },
     "execution_count": 26,
     "metadata": {},
     "output_type": "execute_result"
    }
   ],
   "source": [
    "anime"
   ]
  },
  {
   "cell_type": "code",
   "execution_count": 27,
   "metadata": {},
   "outputs": [],
   "source": [
    "from sklearn.preprocessing import MinMaxScaler"
   ]
  },
  {
   "cell_type": "code",
   "execution_count": 28,
   "metadata": {},
   "outputs": [],
   "source": [
    "scaler = MinMaxScaler()\n",
    "anime[['Number of Episodes', 'Rating', 'Members']] = scaler.fit_transform(anime[['Number of Episodes', 'Rating', 'Members']])"
   ]
  },
  {
   "cell_type": "code",
   "execution_count": 29,
   "metadata": {},
   "outputs": [],
   "source": [
    "anime['tags'] = anime['Name'] + anime['Genres'] + anime['Synopsis']"
   ]
  },
  {
   "cell_type": "code",
   "execution_count": 30,
   "metadata": {},
   "outputs": [
    {
     "data": {
      "text/html": [
       "<div>\n",
       "<style scoped>\n",
       "    .dataframe tbody tr th:only-of-type {\n",
       "        vertical-align: middle;\n",
       "    }\n",
       "\n",
       "    .dataframe tbody tr th {\n",
       "        vertical-align: top;\n",
       "    }\n",
       "\n",
       "    .dataframe thead th {\n",
       "        text-align: right;\n",
       "    }\n",
       "</style>\n",
       "<table border=\"1\" class=\"dataframe\">\n",
       "  <thead>\n",
       "    <tr style=\"text-align: right;\">\n",
       "      <th></th>\n",
       "      <th>Anime ID</th>\n",
       "      <th>Name</th>\n",
       "      <th>Genres</th>\n",
       "      <th>Number of Episodes</th>\n",
       "      <th>Rating</th>\n",
       "      <th>Members</th>\n",
       "      <th>Synopsis</th>\n",
       "      <th>English name</th>\n",
       "      <th>tags</th>\n",
       "    </tr>\n",
       "  </thead>\n",
       "  <tbody>\n",
       "    <tr>\n",
       "      <th>0</th>\n",
       "      <td>1</td>\n",
       "      <td>Cowboy Bebop</td>\n",
       "      <td>Action, Adventure, Comedy, Drama, Sci-Fi, Space</td>\n",
       "      <td>0.008505</td>\n",
       "      <td>0.944142</td>\n",
       "      <td>0.483466</td>\n",
       "      <td>In the year 2071, humanity has colonized sever...</td>\n",
       "      <td>Cowboy Bebop</td>\n",
       "      <td>Cowboy BebopAction, Adventure, Comedy, Drama, ...</td>\n",
       "    </tr>\n",
       "  </tbody>\n",
       "</table>\n",
       "</div>"
      ],
      "text/plain": [
       "   Anime ID          Name                                           Genres  \\\n",
       "0         1  Cowboy Bebop  Action, Adventure, Comedy, Drama, Sci-Fi, Space   \n",
       "\n",
       "   Number of Episodes    Rating   Members  \\\n",
       "0            0.008505  0.944142  0.483466   \n",
       "\n",
       "                                            Synopsis  English name  \\\n",
       "0  In the year 2071, humanity has colonized sever...  Cowboy Bebop   \n",
       "\n",
       "                                                tags  \n",
       "0  Cowboy BebopAction, Adventure, Comedy, Drama, ...  "
      ]
     },
     "execution_count": 30,
     "metadata": {},
     "output_type": "execute_result"
    }
   ],
   "source": [
    "anime.head(1)"
   ]
  },
  {
   "cell_type": "code",
   "execution_count": 31,
   "metadata": {},
   "outputs": [],
   "source": [
    "from sklearn.feature_extraction.text import TfidfVectorizer\n",
    "from sklearn.metrics.pairwise import linear_kernel"
   ]
  },
  {
   "cell_type": "code",
   "execution_count": 32,
   "metadata": {},
   "outputs": [],
   "source": [
    "tfidf_vectorizer = TfidfVectorizer(stop_words='english')\n",
    "tfidf_matrix = tfidf_vectorizer.fit_transform(anime['tags'])"
   ]
  },
  {
   "cell_type": "code",
   "execution_count": 33,
   "metadata": {},
   "outputs": [],
   "source": [
    "linear_sim = linear_kernel(tfidf_matrix, tfidf_matrix)"
   ]
  },
  {
   "cell_type": "code",
   "execution_count": 34,
   "metadata": {},
   "outputs": [],
   "source": [
    "anime['Name'] = anime['English name'].fillna(anime['Name'])"
   ]
  },
  {
   "cell_type": "code",
   "execution_count": 35,
   "metadata": {},
   "outputs": [],
   "source": [
    "recommended_animes = anime[['Anime ID', 'Name', 'Genres', 'Synopsis']]"
   ]
  },
  {
   "cell_type": "code",
   "execution_count": 36,
   "metadata": {},
   "outputs": [],
   "source": [
    "def content_based_recommend_anime(name : str):\n",
    "    idx = recommended_animes[recommended_animes['Name'] == name].index[0]\n",
    "    sim_scores = list(enumerate(linear_sim[idx]))\n",
    "    sim_scores = sorted(sim_scores, key=lambda x: x[1], reverse=True)\n",
    "    sim_scores = sim_scores[1:11]\n",
    "\n",
    "    data = []\n",
    "    for i in sim_scores:\n",
    "        item = []\n",
    "        temp_data = recommended_animes[recommended_animes['Name'] == recommended_animes.iloc[i[0]]['Name']]\n",
    "        item.append(temp_data['Name'].values[0])\n",
    "        item.append(temp_data['Genres'].values[0])\n",
    "        item.append(temp_data['Synopsis'].values[0])\n",
    "\n",
    "        data.append(item)\n",
    "    \n",
    "    return data"
   ]
  },
  {
   "cell_type": "code",
   "execution_count": 37,
   "metadata": {},
   "outputs": [
    {
     "data": {
      "text/plain": [
       "[['Cowboy Bebop:The Movie',\n",
       "  'Action, Drama, Mystery, Sci-Fi, Space',\n",
       "  'other day, another bounty—such is the life of the often unlucky crew of the Bebop. However, this routine is interrupted when Faye, who is chasing a fairly worthless target on Mars, witnesses an oil tanker suddenly explode, causing mass hysteria. As casualties mount due to a strange disease spreading through the smoke from the blast, a whopping three hundred million woolong price is placed on the head of the supposed perpetrator. With lives at stake and a solution to their money problems in sight, the Bebop crew springs into action. Spike, Jet, Faye, and Edward, followed closely by Ein, split up to pursue different leads across Alba City. Through their individual investigations, they discover a cover-up scheme involving a pharmaceutical company, revealing a plot that reaches much further than the ragtag team of bounty hunters could have realized.'],\n",
       " ['Cowboy Bebop Session XX',\n",
       "  'Action, Adventure, Comedy, Drama, Sci-Fi, Space',\n",
       "  'Due to the violence portrayed in the Cowboy Bebop world and violence in Japanese schools, the series was briefly cancelled and an extra session was created as a final episode to the first thirteen episodes aired. Called \"Session XX: Mish-Mash Blues,\" a compilation of clips from previous episodes, it aired on June 26, 1998 on TV Tokyo. The episode was never released on DVD. In it, the characters provide a philosophical commentary and end with the words: This Is Not The End. You Will See The Real \"Cowboy Bebop\" Someday! (Source: AniDB)'],\n",
       " [\"Ein's Summer Vacation\",\n",
       "  'Adventure',\n",
       "  'Corgi can certainly dream! Taking a break from the frequent antics his colleagues get him into, Bebop crewmate Ein envisions himself sipping a tropical beverage on the beachside and scuba diving with Edward amid a barrier reef. In this \"picture drama,\" Ein fantasizes about his ideal summer vacation.'],\n",
       " ['Galactic Whirlwind Braiger',\n",
       "  'Action, Sci-Fi, Adventure, Space, Mecha',\n",
       "  'In the year 2111, the solar system has been colonized. The colonized moons and planets are lawless and the police are helpless. In order to battle the evil within the solar system, Isaac Godonov creates J9, made up of himself, Blaster Kid, Stephen Bowie, and Angel Omachi. They are a team that will handle any missions the police will not with their robot Braiger... for a price. Meanwhile, the Nubia section of Earth has a plan to destroy Jupiter to create 30 more planets for human colonization. But this plan will result in the destruction of Earth. (Source: ANN)'],\n",
       " ['Outlaw Star',\n",
       "  'Action, Sci-Fi, Adventure, Space, Comedy',\n",
       "  \"Gene Starwind has always dreamed of piloting his own ship out into the vast sea of stars. Unfortunately, not all dreams come true, as he spends his days working odd jobs alongside his partner, James Hawking, on the small planet Sentinel III instead. However, this all takes a turn when the duo takes on a job from Rachel Sweet who, unbeknownst to them, is actually a treasure-hunting outlaw. Tasked with protecting a mysterious girl known as Melfina, the meeting irrevocably changes the pair's lives as they are sent out into the great unknown aboard the highly advanced ship, Outlaw Star. Seihou Bukyou Outlaw Star follows Gene and his ragtag crew as they brave the final frontier, navigating the stars in search of answers to the mysteries surrounding Melfina. Encountering dangerous bounty hunters, space pirates, Taoist mages, and even catgirls, there is sure to be an exhilarating adventure around every corner.\"],\n",
       " ['Sol Bianca:The Legacy',\n",
       "  'Adventure, Mecha, Sci-Fi, Space',\n",
       "  \"Thousands of years into the future, mankind has colonized other planets across the galaxy and completely forgotten about Earth. On one part of the galaxy, the female space pirates and their colossal starship Sol Bianca get a surprise when a young girl named Mayo stows away on board the ship. The crew then embarks on a journey to Earth to find the whereabouts of Mayo's parents and discover the secrets of the lost planet. (Source: ANN)\"],\n",
       " ['Happening Star ☆',\n",
       "  'Comedy, Sci-Fi',\n",
       "  \"The science-fiction adventure story takes place 46 million light years away from Earth in the Sombrero Galaxy on a planet named Milky. The alien boy Kid, who refers to himself as Space's #1 Pilot, uses a Power Crystal to modify his spaceship and travel through dimensions. (Source: ANN)\"],\n",
       " ['Bounty Dog: Getsumen no Ibu',\n",
       "  'Action, Sci-Fi, Space',\n",
       "  'In the future, mankind has colonized the bleak expanses of the moon. Cities now stand proudly where there was once only desolation and emptiness. But there are alien forces that do not want mankind to succeed and only one man can stop them. He is a member of the Bounty Dog Investigation Unit, a high-tech cybernetic mercenary team.'],\n",
       " ['Terra e... (TV)',\n",
       "  'Action, Drama, Military, Sci-Fi, Space',\n",
       "  'In the future, humans are living on colonized planets and are controlled in every aspect of their life by a system of computers. Evolution has resulted in the birth of people with extraordinary powers. This new race is called Mu. Hated and feared by the humans, the Mu dream of a place to live in peace: Earth—a mystical far away planet—for humanity had to leave their home long ago as pollution and destruction increased and made it impossible to stay there any longer. Jomy is a boy excitedly awaiting his birthday, the day he will enter the world of adults. Yet he knows nothing about the unknown powers sleeping in him and the shared dream of returning to Earth one day.'],\n",
       " ['Chibikko Cowboy',\n",
       "  'Music, Kids',\n",
       "  'little boy has fun being a cowboy out in the Wild West.']]"
      ]
     },
     "execution_count": 37,
     "metadata": {},
     "output_type": "execute_result"
    }
   ],
   "source": [
    "content_based_recommend_anime('Cowboy Bebop')"
   ]
  },
  {
   "cell_type": "markdown",
   "metadata": {},
   "source": [
    "## Collaborative Recommended System"
   ]
  },
  {
   "cell_type": "code",
   "execution_count": 38,
   "metadata": {},
   "outputs": [],
   "source": [
    "x = animelist.groupby('user_id').count()['rating']>450\n",
    "reviewers = x[x].index"
   ]
  },
  {
   "cell_type": "code",
   "execution_count": 39,
   "metadata": {},
   "outputs": [],
   "source": [
    "filtered_users = animelist[animelist['user_id'].isin(reviewers)]"
   ]
  },
  {
   "cell_type": "code",
   "execution_count": 40,
   "metadata": {},
   "outputs": [],
   "source": [
    "y = filtered_users.groupby('anime_id').count()['rating']>5000\n",
    "reviewed_anime = y[y].index"
   ]
  },
  {
   "cell_type": "code",
   "execution_count": 41,
   "metadata": {},
   "outputs": [],
   "source": [
    "filtered_animes = filtered_users[filtered_users['anime_id'].isin(reviewed_anime)]"
   ]
  },
  {
   "cell_type": "code",
   "execution_count": 42,
   "metadata": {},
   "outputs": [
    {
     "data": {
      "text/plain": [
       "(53623976, 3)"
      ]
     },
     "execution_count": 42,
     "metadata": {},
     "output_type": "execute_result"
    }
   ],
   "source": [
    "filtered_animes.shape"
   ]
  },
  {
   "cell_type": "code",
   "execution_count": 43,
   "metadata": {},
   "outputs": [
    {
     "data": {
      "text/plain": [
       "np.int64(1)"
      ]
     },
     "execution_count": 43,
     "metadata": {},
     "output_type": "execute_result"
    }
   ],
   "source": [
    "filtered_animes.duplicated().sum()"
   ]
  },
  {
   "cell_type": "code",
   "execution_count": 44,
   "metadata": {},
   "outputs": [],
   "source": [
    "filtered_animes = filtered_animes.drop_duplicates()"
   ]
  },
  {
   "cell_type": "code",
   "execution_count": 45,
   "metadata": {},
   "outputs": [
    {
     "data": {
      "text/html": [
       "<div>\n",
       "<style scoped>\n",
       "    .dataframe tbody tr th:only-of-type {\n",
       "        vertical-align: middle;\n",
       "    }\n",
       "\n",
       "    .dataframe tbody tr th {\n",
       "        vertical-align: top;\n",
       "    }\n",
       "\n",
       "    .dataframe thead th {\n",
       "        text-align: right;\n",
       "    }\n",
       "</style>\n",
       "<table border=\"1\" class=\"dataframe\">\n",
       "  <thead>\n",
       "    <tr style=\"text-align: right;\">\n",
       "      <th></th>\n",
       "      <th>user_id</th>\n",
       "      <th>anime_id</th>\n",
       "      <th>rating</th>\n",
       "    </tr>\n",
       "  </thead>\n",
       "  <tbody>\n",
       "    <tr>\n",
       "      <th>213</th>\n",
       "      <td>2</td>\n",
       "      <td>24833</td>\n",
       "      <td>0.0</td>\n",
       "    </tr>\n",
       "  </tbody>\n",
       "</table>\n",
       "</div>"
      ],
      "text/plain": [
       "     user_id  anime_id  rating\n",
       "213        2     24833     0.0"
      ]
     },
     "execution_count": 45,
     "metadata": {},
     "output_type": "execute_result"
    }
   ],
   "source": [
    "filtered_animes.head(1)"
   ]
  },
  {
   "cell_type": "code",
   "execution_count": 46,
   "metadata": {},
   "outputs": [],
   "source": [
    "pivot_table = filtered_animes.pivot_table(index='anime_id', columns='user_id', values='rating')"
   ]
  },
  {
   "cell_type": "code",
   "execution_count": 47,
   "metadata": {},
   "outputs": [
    {
     "data": {
      "text/plain": [
       "(3223, 77792)"
      ]
     },
     "execution_count": 47,
     "metadata": {},
     "output_type": "execute_result"
    }
   ],
   "source": [
    "pivot_table.shape"
   ]
  },
  {
   "cell_type": "code",
   "execution_count": 48,
   "metadata": {},
   "outputs": [],
   "source": [
    "pivot_table = pivot_table.fillna(0)"
   ]
  },
  {
   "cell_type": "code",
   "execution_count": 49,
   "metadata": {},
   "outputs": [],
   "source": [
    "from sklearn.metrics.pairwise import cosine_similarity"
   ]
  },
  {
   "cell_type": "code",
   "execution_count": 50,
   "metadata": {},
   "outputs": [],
   "source": [
    "cosine_sim = cosine_similarity(pivot_table)"
   ]
  },
  {
   "cell_type": "code",
   "execution_count": 51,
   "metadata": {},
   "outputs": [],
   "source": [
    "def get_anime_id(name):\n",
    "    return recommended_animes[recommended_animes['Name']==name]['Anime ID'].values[0]"
   ]
  },
  {
   "cell_type": "code",
   "execution_count": 52,
   "metadata": {},
   "outputs": [],
   "source": [
    "def get_anime_name(id):\n",
    "    return recommended_animes[recommended_animes['Anime ID'] == id]['Name'].values[0]"
   ]
  },
  {
   "cell_type": "code",
   "execution_count": 53,
   "metadata": {},
   "outputs": [],
   "source": [
    "def collaborative_based_recommend_anime(anime_name: str):\n",
    "    anime_id = get_anime_id(anime_name)\n",
    "    idx = np.where(pivot_table.index == anime_id)[0][0]\n",
    "    sim_scores = list(enumerate(cosine_sim[idx]))\n",
    "    sim_scores = sorted(sim_scores, key=lambda x: x[1], reverse=True)\n",
    "    sim_scores = sim_scores[1:11]\n",
    "\n",
    "    data = []\n",
    "    for i in sim_scores:\n",
    "        item = []\n",
    "        temp_data = recommended_animes[recommended_animes['Anime ID'] == pivot_table.index[i[0]]]\n",
    "        item.append(temp_data['Name'].values[0])\n",
    "        item.append(temp_data['Genres'].values[0])\n",
    "        item.append(temp_data['Synopsis'].values[0])\n",
    "\n",
    "        data.append(item)\n",
    "\n",
    "    return data"
   ]
  },
  {
   "cell_type": "code",
   "execution_count": 54,
   "metadata": {},
   "outputs": [
    {
     "data": {
      "text/plain": [
       "[['Sword Art Online',\n",
       "  'Action, Game, Adventure, Romance, Fantasy',\n",
       "  'In the year 2022, virtual reality has progressed by leaps and bounds, and a massive online role-playing game called Sword Art Online (SAO) is launched. With the aid of \"NerveGear\" technology, players can control their avatars within the game using nothing but their own thoughts. Kazuto Kirigaya, nicknamed \"Kirito,\" is among the lucky few enthusiasts who get their hands on the first shipment of the game. He logs in to find himself, with ten-thousand others, in the scenic and elaborate world of Aincrad, one full of fantastic medieval weapons and gruesome monsters. However, in a cruel turn of events, the players soon realize they cannot log out; the game\\'s creator has trapped them in his new world until they complete all one hundred levels of the game. In order to escape Aincrad, Kirito will now have to interact and cooperate with his fellow players. Some are allies, while others are foes, like Asuna Yuuki, who commands the leading group attempting to escape from the ruthless game. To make matters worse, Sword Art Online is not all fun and games: if they die in Aincrad, they die in real life. Kirito must adapt to his new reality, fight for his survival, and hopefully break free from his virtual hell.'],\n",
       " ['Attack on Titan',\n",
       "  'Action, Military, Mystery, Super Power, Drama, Fantasy, Shounen',\n",
       "  \"Centuries ago, mankind was slaughtered to near extinction by monstrous humanoid creatures called titans, forcing humans to hide in fear behind enormous concentric walls. What makes these giants truly terrifying is that their taste for human flesh is not born out of hunger but what appears to be out of pleasure. To ensure their survival, the remnants of humanity began living within defensive barriers, resulting in one hundred years without a single titan encounter. However, that fragile calm is soon shattered when a colossal titan manages to breach the supposedly impregnable outer wall, reigniting the fight for survival against the man-eating abominations. After witnessing a horrific personal loss at the hands of the invading creatures, Eren Yeager dedicates his life to their eradication by enlisting into the Survey Corps, an elite military unit that combats the merciless humanoids outside the protection of the walls. Based on Hajime Isayama's award-winning manga, Shingeki no Kyojin follows Eren, along with his adopted sister Mikasa Ackerman and his childhood friend Armin Arlert, as they join the brutal war against the titans and race to discover a way of defeating them before the last walls are breached.\"],\n",
       " ['Noragami:Stray God',\n",
       "  'Action, Adventure, Comedy, Supernatural, Shounen',\n",
       "  'In times of need, if you look in the right place, you just may see a strange telephone number scrawled in red. If you call this number, you will hear a young man introduce himself as the Yato God. Yato is a minor deity and a self-proclaimed \"Delivery God,\" who dreams of having millions of worshippers. Without a single shrine dedicated to his name, however, his goals are far from being realized. He spends his days doing odd jobs for five yen apiece, until his weapon partner becomes fed up with her useless master and deserts him. Just as things seem to be looking grim for the god, his fortune changes when a middle school girl, Hiyori Iki, supposedly saves Yato from a car accident, taking the hit for him. Remarkably, she survives, but the event has caused her soul to become loose and hence able to leave her body. Hiyori demands that Yato return her to normal, but upon learning that he needs a new partner to do so, reluctantly agrees to help him find one. And with Hiyori\\'s help, Yato\\'s luck may finally be turning around.'],\n",
       " ['Tokyo Ghoul',\n",
       "  'Action, Mystery, Horror, Psychological, Supernatural, Drama, Seinen',\n",
       "  'Tokyo has become a cruel and merciless city—a place where vicious creatures called \"ghouls\" exist alongside humans. The citizens of this once great metropolis live in constant fear of these bloodthirsty savages and their thirst for human flesh. However, the greatest threat these ghouls pose is their dangerous ability to masquerade as humans and blend in with society. Based on the best-selling supernatural horror manga by Sui Ishida, Tokyo Ghoul follows Ken Kaneki, a shy, bookish college student, who is instantly drawn to Rize Kamishiro, an avid reader like himself. However, Rize is not exactly who she seems, and this unfortunate meeting pushes Kaneki into the dark depths of the ghouls\\' inhuman world. In a twist of fate, Kaneki is saved by the enigmatic waitress Touka Kirishima, and thus begins his new, secret life as a half-ghoul/half-human who must find a way to integrate into both societies.'],\n",
       " ['Angel Beats!',\n",
       "  'Action, Comedy, Drama, School, Supernatural',\n",
       "  \"Otonashi awakens only to learn he is dead. A rifle-toting girl named Yuri explains that they are in the afterlife, and Otonashi realizes the only thing he can remember about himself is his name. Yuri tells him that she leads the Shinda Sekai Sensen (Afterlife Battlefront) and wages war against a girl named Tenshi. Unable to believe Yuri's claims that Tenshi is evil, Otonashi attempts to speak with her, but the encounter doesn't go as he intended. Otonashi decides to join the SSS and battle Tenshi, but he finds himself oddly drawn to her. While trying to regain his memories and understand Tenshi, he gradually unravels the mysteries of the afterlife.\"],\n",
       " ['Death Note',\n",
       "  'Mystery, Police, Psychological, Supernatural, Thriller, Shounen',\n",
       "  \"shinigami, as a god of death, can kill any person—provided they see their victim's face and write their victim's name in a notebook called a Death Note. One day, Ryuk, bored by the shinigami lifestyle and interested in seeing how a human would use a Death Note, drops one into the human realm. High school student and prodigy Light Yagami stumbles upon the Death Note and—since he deplores the state of the world—tests the deadly notebook by writing a criminal's name in it. When the criminal dies immediately following his experiment with the Death Note, Light is greatly surprised and quickly recognizes how devastating the power that has fallen into his hands could be. With this divine capability, Light decides to extinguish all criminals in order to build a new world where crime does not exist and people worship him as a god. Police, however, quickly discover that a serial killer is targeting criminals and, consequently, try to apprehend the culprit. To do this, the Japanese investigators count on the assistance of the best detective in the world: a young and eccentric man known only by the name of L.\"],\n",
       " ['No Game, No Life',\n",
       "  'Game, Adventure, Comedy, Supernatural, Ecchi, Fantasy',\n",
       "  'No Game No Life is a surreal comedy that follows Sora and Shiro, shut-in NEET siblings and the online gamer duo behind the legendary username \"Blank.\" They view the real world as just another lousy game; however, a strange e-mail challenging them to a chess match changes everything—the brother and sister are plunged into an otherworldly realm where they meet Tet, the God of Games. The mysterious god welcomes Sora and Shiro to Disboard, a world where all forms of conflict—from petty squabbles to the fate of whole countries—are settled not through war, but by way of high-stake games. This system works thanks to a fundamental rule wherein each party must wager something they deem to be of equal value to the other party\\'s wager. In this strange land where the very idea of humanity is reduced to child\\'s play, the indifferent genius gamer duo of Sora and Shiro have finally found a real reason to keep playing games: to unite the sixteen races of Disboard, defeat Tet, and become the gods of this new, gaming-is-everything world.'],\n",
       " ['The Devil is a Part-Timer!',\n",
       "  'Comedy, Demons, Supernatural, Romance, Fantasy',\n",
       "  \"Striking fear into the hearts of mortals, the Demon Lord Satan begins to conquer the land of Ente Isla with his vast demon armies. However, while embarking on this brutal quest to take over the continent, his efforts are foiled by the hero Emilia, forcing Satan to make his swift retreat through a dimensional portal only to land in the human world. Along with his loyal general Alsiel, the demon finds himself stranded in modern-day Tokyo and vows to return and complete his subjugation of Ente Isla—that is, if they can find a way back! Powerless in a world without magic, Satan assumes the guise of a human named Sadao Maou and begins working at MgRonald's—a local fast-food restaurant—to make ends meet. He soon realizes that his goal of conquering Ente Isla is just not enough as he grows determined to climb the corporate ladder and become the ruler of Earth, one satisfied customer at a time! Whether it's part-time work, household chores, or simply trying to pay the rent on time, Hataraku Maou-sama! presents a hilarious view of the most mundane aspects of everyday life, all through the eyes of a hapless demon lord.\"],\n",
       " ['One Punch Man',\n",
       "  'Action, Sci-Fi, Comedy, Parody, Super Power, Supernatural',\n",
       "  \"The seemingly ordinary and unimpressive Saitama has a rather unique hobby: being a hero. In order to pursue his childhood dream, he trained relentlessly for three years—and lost all of his hair in the process. Now, Saitama is incredibly powerful, so much so that no enemy is able to defeat him in battle. In fact, all it takes to defeat evildoers with just one punch has led to an unexpected problem—he is no longer able to enjoy the thrill of battling and has become quite bored. This all changes with the arrival of Genos, a 19-year-old cyborg, who wishes to be Saitama's disciple after seeing what he is capable of. Genos proposes that the two join the Hero Association in order to become certified heroes that will be recognized for their positive contributions to society, and Saitama, shocked that no one knows who he is, quickly agrees. And thus begins the story of One Punch Man , an action-comedy that follows an eccentric individual who longs to fight strong enemies that can hopefully give him the excitement he once felt and just maybe, he'll become popular in the process.\"],\n",
       " ['The Future Diary',\n",
       "  'Action, Mystery, Psychological, Shounen, Supernatural, Thriller',\n",
       "  'onely high school student, Yukiteru Amano, spends his days writing a diary on his cellphone, while conversing with his two seemingly imaginary friends Deus Ex Machina, who is the god of time and space, and Murmur, the god\\'s servant. Revealing himself to be an actual entity, Deus grants Yukiteru a \"Random Diary,\" which shows highly descriptive entries based on the future and forces him into a bloody battle royale with 11 other holders of similarly powerful future diaries. With the last person standing designated as the new god of time and space, Yukiteru must find and kill the other 11 in order to survive. He reluctantly teams up with his obsessive stalker Yuno Gasai (who also possesses such a diary), and she takes it upon herself to ensure his safety. But there\\'s more to the girl than meets the eye, as she might have other plans for her unrequited love...']]"
      ]
     },
     "execution_count": 54,
     "metadata": {},
     "output_type": "execute_result"
    }
   ],
   "source": [
    "collaborative_based_recommend_anime('Blue Exorcist')"
   ]
  },
  {
   "cell_type": "code",
   "execution_count": 55,
   "metadata": {},
   "outputs": [
    {
     "data": {
      "text/plain": [
       "[['Ao no Exorcist: Kyoto Fujouou-hen OVA',\n",
       "  'Action, Demons, Supernatural, Fantasy, Shounen',\n",
       "  'Bundled with the 19th and 20th volumes of the Ao no Exorcist manga. The first episode is based on the second chapter of the second Ao no Exorcist novel Home Sweet Home. The second episode is based on the title chapter from the Ao no Exorcist: Spy Game novel.'],\n",
       " ['Blue Exorcist:Kyoto Saga',\n",
       "  'Action, Demons, Supernatural, Fantasy, Shounen',\n",
       "  \"The ExWire of True Cross Academy are beset with shock and fear in the aftermath of discovering that one of their own classmates, Rin Okumura, is the son of Satan. But for the moment, they have more pressing concerns than that of Rin's parentage: the left eye of the Impure King, a powerful demon, has been stolen from the academy's Deep Keep. After an attempt is made to steal the right eye in Kyoto as well, Rin and the other ExWires are sent to investigate the mystery behind the Impure King and the ultimate goal of the thief. While this mission has them cooperating for the time being, Rin has never felt more distant from his fellow exorcists. In his attempt to reconcile with them, he undergoes specialized training to control his dark power. However, when the right eye is stolen not long after their arrival, the unthinkable threat of a traitor amongst them leaves them in need of all the power they can get.\"],\n",
       " ['Blue Exorcist:Runaway Kuro',\n",
       "  'Action, Demons, Fantasy, Shounen, Supernatural',\n",
       "  'Feeling slighted by Rin, Kuro goes on the hunt for a new master, but can he find anyone who can truly replace Rin?'],\n",
       " ['Ao no Exorcist: Ura Ex',\n",
       "  'Action, Fantasy, Supernatural, Shounen',\n",
       "  'Ura Ex, extra short anime included in Blu-ray and the DVD releases of Ao no Exorcist .'],\n",
       " ['Blue Exorcist The Movie',\n",
       "  'Action, Demons, Fantasy, Shounen, Supernatural',\n",
       "  'The atmosphere in True Cross Academy is lively and boisterous in the days leading up to the grand festival held once every 11 years. During this time, Okumura Rin is entrusted with the responsibility of suppressing the berserk Phantom Train. In the midst of his mission, he meets a devil whose appearance is that of a young boy. (Source: Official Site)'],\n",
       " ['Ao no Exorcist Movie Special',\n",
       "  'Parody, Comedy',\n",
       "  'collaboration between Blue Exorcist and Kakko Kawaii Sengen.'],\n",
       " ['Shuffle!',\n",
       "  'Harem, Comedy, Drama, Magic, Romance, Ecchi, Fantasy, School, Seinen',\n",
       "  \"In present times, Gods and Demons coexist together with Humans after the door between each of these worlds had opened. Tsuchimi Rin is a normal young high school student attending Verbena Academy, spending his days living peacefully with his childhood friend Kaede. Unexpectedly, one day the King of Gods, the King of Demons and their families move into be Rin's next door neighbors. Apparently the daughter of the Gods, Sia, and the daughter of the demons, Nerine, are both deeply in love with Rin after having met him in the past. Along with his playful friendship with upperclassmen Asa and his encounter with the silent but cute Primula, Rin has much on his hands dealing with the affections of each of these girls. Based on the eroge by Navel.\"],\n",
       " ['The Devil is a Part-Timer!',\n",
       "  'Comedy, Demons, Supernatural, Romance, Fantasy',\n",
       "  \"Striking fear into the hearts of mortals, the Demon Lord Satan begins to conquer the land of Ente Isla with his vast demon armies. However, while embarking on this brutal quest to take over the continent, his efforts are foiled by the hero Emilia, forcing Satan to make his swift retreat through a dimensional portal only to land in the human world. Along with his loyal general Alsiel, the demon finds himself stranded in modern-day Tokyo and vows to return and complete his subjugation of Ente Isla—that is, if they can find a way back! Powerless in a world without magic, Satan assumes the guise of a human named Sadao Maou and begins working at MgRonald's—a local fast-food restaurant—to make ends meet. He soon realizes that his goal of conquering Ente Isla is just not enough as he grows determined to climb the corporate ladder and become the ruler of Earth, one satisfied customer at a time! Whether it's part-time work, household chores, or simply trying to pay the rent on time, Hataraku Maou-sama! presents a hilarious view of the most mundane aspects of everyday life, all through the eyes of a hapless demon lord.\"],\n",
       " ['Saiyuki',\n",
       "  'Action, Adventure, Comedy, Demons, Drama, Shounen, Supernatural',\n",
       "  'any years ago, humans and demons lived in harmony. But that unity ended when demons started attacking humans and plotted a mission to unleash Gyumao—an evil demon imprisoned for thousands of years. Now, Genjo Sanzo, a rogue priest, must team up with three demons—Sha Gojyo, Son Goku, and Cho Hakkai—and embark on a perilous journey to the west to stop these demons from resurrecting Gyumao and restore the balance between humans and demons on Earth. (Source: ANN)'],\n",
       " ['Toukiden: The Age of Demons - Introduction',\n",
       "  'Action, Demons',\n",
       "  'Two siblings are running away from demons which attacked their village. Just when they are cornered, a mysterious female fighter appears and slays the demons. This female fighter turns out to be a Slayer, a demon that fights other demons and is part of a village of Slayers.']]"
      ]
     },
     "execution_count": 55,
     "metadata": {},
     "output_type": "execute_result"
    }
   ],
   "source": [
    "content_based_recommend_anime('Blue Exorcist')"
   ]
  },
  {
   "cell_type": "code",
   "execution_count": 56,
   "metadata": {},
   "outputs": [],
   "source": [
    "def hybrid_based_recommend_anime(anime_name: str):\n",
    "    ## Content Based\n",
    "    idx = recommended_animes[recommended_animes['Name'] == anime_name].index[0]\n",
    "    sim_scores = list(enumerate(linear_sim[idx]))\n",
    "    sim_scores = sorted(sim_scores, key=lambda x: x[1], reverse=True)\n",
    "    sim_scores = sim_scores[1:6]\n",
    "\n",
    "    data = []\n",
    "    for i in sim_scores:\n",
    "        content_based_recommend_animeitem = []\n",
    "        temp_data = recommended_animes[recommended_animes['Name'] == recommended_animes.iloc[i[0]]['Name']]\n",
    "        content_based_recommend_animeitem.append(temp_data['Name'].values[0])\n",
    "        content_based_recommend_animeitem.append(temp_data['Genres'].values[0])\n",
    "        content_based_recommend_animeitem.append(temp_data['Synopsis'].values[0])\n",
    "\n",
    "        data.append(content_based_recommend_animeitem)\n",
    "            \n",
    "    ## Collaborative Based\n",
    "    anime_id = get_anime_id(anime_name)\n",
    "    idx = np.where(pivot_table.index == anime_id)[0][0]\n",
    "    sim_scores = list(enumerate(cosine_sim[idx]))\n",
    "    sim_scores = sorted(sim_scores, key=lambda x: x[1], reverse=True)\n",
    "    sim_scores = sim_scores[1:6]\n",
    "\n",
    "    for i in sim_scores:\n",
    "        collaborative_based_recommend_anime = []\n",
    "        temp_data = recommended_animes[recommended_animes['Anime ID'] == pivot_table.index[i[0]]]\n",
    "        collaborative_based_recommend_anime.append(temp_data['Name'].values[0])\n",
    "        collaborative_based_recommend_anime.append(temp_data['Genres'].values[0])\n",
    "        collaborative_based_recommend_anime.append(temp_data['Synopsis'].values[0])\n",
    "\n",
    "        data.append(collaborative_based_recommend_anime)\n",
    "\n",
    "    return data"
   ]
  },
  {
   "cell_type": "code",
   "execution_count": 57,
   "metadata": {},
   "outputs": [
    {
     "data": {
      "text/plain": [
       "[['Ao no Exorcist: Kyoto Fujouou-hen OVA',\n",
       "  'Action, Demons, Supernatural, Fantasy, Shounen',\n",
       "  'Bundled with the 19th and 20th volumes of the Ao no Exorcist manga. The first episode is based on the second chapter of the second Ao no Exorcist novel Home Sweet Home. The second episode is based on the title chapter from the Ao no Exorcist: Spy Game novel.'],\n",
       " ['Blue Exorcist:Kyoto Saga',\n",
       "  'Action, Demons, Supernatural, Fantasy, Shounen',\n",
       "  \"The ExWire of True Cross Academy are beset with shock and fear in the aftermath of discovering that one of their own classmates, Rin Okumura, is the son of Satan. But for the moment, they have more pressing concerns than that of Rin's parentage: the left eye of the Impure King, a powerful demon, has been stolen from the academy's Deep Keep. After an attempt is made to steal the right eye in Kyoto as well, Rin and the other ExWires are sent to investigate the mystery behind the Impure King and the ultimate goal of the thief. While this mission has them cooperating for the time being, Rin has never felt more distant from his fellow exorcists. In his attempt to reconcile with them, he undergoes specialized training to control his dark power. However, when the right eye is stolen not long after their arrival, the unthinkable threat of a traitor amongst them leaves them in need of all the power they can get.\"],\n",
       " ['Blue Exorcist:Runaway Kuro',\n",
       "  'Action, Demons, Fantasy, Shounen, Supernatural',\n",
       "  'Feeling slighted by Rin, Kuro goes on the hunt for a new master, but can he find anyone who can truly replace Rin?'],\n",
       " ['Ao no Exorcist: Ura Ex',\n",
       "  'Action, Fantasy, Supernatural, Shounen',\n",
       "  'Ura Ex, extra short anime included in Blu-ray and the DVD releases of Ao no Exorcist .'],\n",
       " ['Blue Exorcist The Movie',\n",
       "  'Action, Demons, Fantasy, Shounen, Supernatural',\n",
       "  'The atmosphere in True Cross Academy is lively and boisterous in the days leading up to the grand festival held once every 11 years. During this time, Okumura Rin is entrusted with the responsibility of suppressing the berserk Phantom Train. In the midst of his mission, he meets a devil whose appearance is that of a young boy. (Source: Official Site)'],\n",
       " ['Sword Art Online',\n",
       "  'Action, Game, Adventure, Romance, Fantasy',\n",
       "  'In the year 2022, virtual reality has progressed by leaps and bounds, and a massive online role-playing game called Sword Art Online (SAO) is launched. With the aid of \"NerveGear\" technology, players can control their avatars within the game using nothing but their own thoughts. Kazuto Kirigaya, nicknamed \"Kirito,\" is among the lucky few enthusiasts who get their hands on the first shipment of the game. He logs in to find himself, with ten-thousand others, in the scenic and elaborate world of Aincrad, one full of fantastic medieval weapons and gruesome monsters. However, in a cruel turn of events, the players soon realize they cannot log out; the game\\'s creator has trapped them in his new world until they complete all one hundred levels of the game. In order to escape Aincrad, Kirito will now have to interact and cooperate with his fellow players. Some are allies, while others are foes, like Asuna Yuuki, who commands the leading group attempting to escape from the ruthless game. To make matters worse, Sword Art Online is not all fun and games: if they die in Aincrad, they die in real life. Kirito must adapt to his new reality, fight for his survival, and hopefully break free from his virtual hell.'],\n",
       " ['Attack on Titan',\n",
       "  'Action, Military, Mystery, Super Power, Drama, Fantasy, Shounen',\n",
       "  \"Centuries ago, mankind was slaughtered to near extinction by monstrous humanoid creatures called titans, forcing humans to hide in fear behind enormous concentric walls. What makes these giants truly terrifying is that their taste for human flesh is not born out of hunger but what appears to be out of pleasure. To ensure their survival, the remnants of humanity began living within defensive barriers, resulting in one hundred years without a single titan encounter. However, that fragile calm is soon shattered when a colossal titan manages to breach the supposedly impregnable outer wall, reigniting the fight for survival against the man-eating abominations. After witnessing a horrific personal loss at the hands of the invading creatures, Eren Yeager dedicates his life to their eradication by enlisting into the Survey Corps, an elite military unit that combats the merciless humanoids outside the protection of the walls. Based on Hajime Isayama's award-winning manga, Shingeki no Kyojin follows Eren, along with his adopted sister Mikasa Ackerman and his childhood friend Armin Arlert, as they join the brutal war against the titans and race to discover a way of defeating them before the last walls are breached.\"],\n",
       " ['Noragami:Stray God',\n",
       "  'Action, Adventure, Comedy, Supernatural, Shounen',\n",
       "  'In times of need, if you look in the right place, you just may see a strange telephone number scrawled in red. If you call this number, you will hear a young man introduce himself as the Yato God. Yato is a minor deity and a self-proclaimed \"Delivery God,\" who dreams of having millions of worshippers. Without a single shrine dedicated to his name, however, his goals are far from being realized. He spends his days doing odd jobs for five yen apiece, until his weapon partner becomes fed up with her useless master and deserts him. Just as things seem to be looking grim for the god, his fortune changes when a middle school girl, Hiyori Iki, supposedly saves Yato from a car accident, taking the hit for him. Remarkably, she survives, but the event has caused her soul to become loose and hence able to leave her body. Hiyori demands that Yato return her to normal, but upon learning that he needs a new partner to do so, reluctantly agrees to help him find one. And with Hiyori\\'s help, Yato\\'s luck may finally be turning around.'],\n",
       " ['Tokyo Ghoul',\n",
       "  'Action, Mystery, Horror, Psychological, Supernatural, Drama, Seinen',\n",
       "  'Tokyo has become a cruel and merciless city—a place where vicious creatures called \"ghouls\" exist alongside humans. The citizens of this once great metropolis live in constant fear of these bloodthirsty savages and their thirst for human flesh. However, the greatest threat these ghouls pose is their dangerous ability to masquerade as humans and blend in with society. Based on the best-selling supernatural horror manga by Sui Ishida, Tokyo Ghoul follows Ken Kaneki, a shy, bookish college student, who is instantly drawn to Rize Kamishiro, an avid reader like himself. However, Rize is not exactly who she seems, and this unfortunate meeting pushes Kaneki into the dark depths of the ghouls\\' inhuman world. In a twist of fate, Kaneki is saved by the enigmatic waitress Touka Kirishima, and thus begins his new, secret life as a half-ghoul/half-human who must find a way to integrate into both societies.'],\n",
       " ['Angel Beats!',\n",
       "  'Action, Comedy, Drama, School, Supernatural',\n",
       "  \"Otonashi awakens only to learn he is dead. A rifle-toting girl named Yuri explains that they are in the afterlife, and Otonashi realizes the only thing he can remember about himself is his name. Yuri tells him that she leads the Shinda Sekai Sensen (Afterlife Battlefront) and wages war against a girl named Tenshi. Unable to believe Yuri's claims that Tenshi is evil, Otonashi attempts to speak with her, but the encounter doesn't go as he intended. Otonashi decides to join the SSS and battle Tenshi, but he finds himself oddly drawn to her. While trying to regain his memories and understand Tenshi, he gradually unravels the mysteries of the afterlife.\"]]"
      ]
     },
     "execution_count": 57,
     "metadata": {},
     "output_type": "execute_result"
    }
   ],
   "source": [
    "hybrid_based_recommend_anime('Blue Exorcist')"
   ]
  },
  {
   "cell_type": "code",
   "execution_count": 58,
   "metadata": {},
   "outputs": [],
   "source": [
    "import pickle\n",
    "pickle.dump(pivot_table, open('pivot_table.pkl', 'wb'))\n",
    "pickle.dump(recommended_animes, open('animes.pkl', 'wb'))\n",
    "pickle.dump(linear_sim, open('linear_sim.pkl', 'wb'))\n",
    "pickle.dump(cosine_sim, open('cosine_sim.pkl', 'wb'))"
   ]
  }
 ],
 "metadata": {
  "kernelspec": {
   "display_name": "nenv",
   "language": "python",
   "name": "python3"
  },
  "language_info": {
   "codemirror_mode": {
    "name": "ipython",
    "version": 3
   },
   "file_extension": ".py",
   "mimetype": "text/x-python",
   "name": "python",
   "nbconvert_exporter": "python",
   "pygments_lexer": "ipython3",
   "version": "3.10.0"
  }
 },
 "nbformat": 4,
 "nbformat_minor": 2
}
